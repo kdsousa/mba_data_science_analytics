{
 "cells": [
  {
   "cell_type": "code",
   "execution_count": 1,
   "metadata": {},
   "outputs": [],
   "source": [
    "import numpy as np\n",
    "import pandas as pd\n",
    "from sklearn.preprocessing import KBinsDiscretizer\n",
    "import random"
   ]
  },
  {
   "cell_type": "code",
   "execution_count": 2,
   "metadata": {},
   "outputs": [],
   "source": [
    "# Definir uma semente aleatória para reprodutibilidade\n",
    "np.random.seed(42)\n",
    "random.seed(42)"
   ]
  },
  {
   "cell_type": "code",
   "execution_count": 3,
   "metadata": {},
   "outputs": [],
   "source": [
    "# Gerar as variáveis simuladas com correlação\n",
    "idade = np.random.randint(18, 71, 10000)"
   ]
  },
  {
   "cell_type": "code",
   "execution_count": 4,
   "metadata": {},
   "outputs": [],
   "source": [
    "# Gerar variáveis correlacionadas usando a função multivariada normal\n",
    "mean_values = [5000, 2000, 0.5, 5]  # Médias das variáveis\n",
    "correlation_matrix = np.array([\n",
    "    [1, 0.3, 0.2, -0.1],\n",
    "    [0.3, 1, -0.1, 0.2],\n",
    "    [0.2, -0.1, 1, 0.4],\n",
    "    [-0.1, 0.2, 0.4, 1]\n",
    "])  # Matriz de correlação"
   ]
  },
  {
   "cell_type": "code",
   "execution_count": 5,
   "metadata": {},
   "outputs": [],
   "source": [
    "# Gerar dados simulados\n",
    "simulated_data = np.random.multivariate_normal(mean_values, correlation_matrix, 10000)\n",
    "\n",
    "renda = simulated_data[:, 0]\n",
    "divida = simulated_data[:, 1]\n",
    "utilizacao_credito = np.clip(simulated_data[:, 2], 0, 1)  # Limita a utilização de crédito entre 0 e 1\n",
    "consultas_recentes = np.maximum(simulated_data[:, 3], 0)  # Garante que o número de consultas recentes seja não negativo\n"
   ]
  },
  {
   "cell_type": "code",
   "execution_count": 6,
   "metadata": {},
   "outputs": [],
   "source": [
    "# Gerar função linear das variáveis explicativas\n",
    "preditor_linear = -7 - 0.01 * idade - 0.0002 * renda + 0.003 * divida - 3 * utilizacao_credito + 0.5 * consultas_recentes\n"
   ]
  },
  {
   "cell_type": "code",
   "execution_count": 7,
   "metadata": {},
   "outputs": [],
   "source": [
    "# Calcular probabilidade de default (PD) usando a função de link logit\n",
    "prob_default = 1 / (1 + np.exp(-preditor_linear))\n"
   ]
  },
  {
   "cell_type": "code",
   "execution_count": 8,
   "metadata": {},
   "outputs": [],
   "source": [
    "# Gerar inadimplência como variável Bernoulli com base na probabilidade de default\n",
    "inadimplencia = np.random.binomial(1, prob_default, 10000)\n"
   ]
  },
  {
   "cell_type": "code",
   "execution_count": 9,
   "metadata": {},
   "outputs": [
    {
     "name": "stdout",
     "output_type": "stream",
     "text": [
      "   idade        renda       divida  utilizacao_credito  consultas_recentes  \\\n",
      "0     56  5001.087921  1999.455126             0.95862            4.875699   \n",
      "1     69  5000.719625  2000.810295             1.00000            6.445579   \n",
      "2     46  4999.716997  2001.196934             0.00000            5.101072   \n",
      "3     32  5001.297920  2000.322691             0.69576            5.748065   \n",
      "4     60  4999.152684  2000.239878             1.00000            5.304662   \n",
      "\n",
      "   inadimplencia  \n",
      "0              0  \n",
      "1              0  \n",
      "2              1  \n",
      "3              0  \n",
      "4              0  \n"
     ]
    }
   ],
   "source": [
    "# Criar dataframe\n",
    "dados = pd.DataFrame({\n",
    "    'idade': idade,\n",
    "    'renda': renda,\n",
    "    'divida': divida,\n",
    "    'utilizacao_credito': utilizacao_credito,\n",
    "    'consultas_recentes': consultas_recentes,\n",
    "    'inadimplencia': inadimplencia\n",
    "})\n",
    "\n",
    "print(dados.head())"
   ]
  },
  {
   "cell_type": "code",
   "execution_count": 10,
   "metadata": {},
   "outputs": [
    {
     "name": "stdout",
     "output_type": "stream",
     "text": [
      "inadimplencia         0         1\n",
      "idade_cat                        \n",
      "0.0            0.703339  0.296661\n",
      "1.0            0.725639  0.274361\n",
      "2.0            0.752874  0.247126\n",
      "3.0            0.761631  0.238369\n",
      "4.0            0.773301  0.226699\n",
      "   idade        renda       divida  utilizacao_credito  consultas_recentes  \\\n",
      "0     56  5001.087921  1999.455126             0.95862            4.875699   \n",
      "1     69  5000.719625  2000.810295             1.00000            6.445579   \n",
      "2     46  4999.716997  2001.196934             0.00000            5.101072   \n",
      "3     32  5001.297920  2000.322691             0.69576            5.748065   \n",
      "4     60  4999.152684  2000.239878             1.00000            5.304662   \n",
      "\n",
      "   inadimplencia  idade_cat  \n",
      "0              0        3.0  \n",
      "1              0        4.0  \n",
      "2              1        2.0  \n",
      "3              0        1.0  \n",
      "4              0        4.0  \n"
     ]
    }
   ],
   "source": [
    "# Categorizar a idade\n",
    "kbin = KBinsDiscretizer(n_bins=5, encode='ordinal', strategy='quantile')\n",
    "dados['idade_cat'] = kbin.fit_transform(dados[['idade']])\n",
    "\n",
    "def descritiva2(var1, var2, df):\n",
    "    cross_tab = pd.crosstab(df[var1], df[var2], normalize='index')\n",
    "    print(cross_tab)\n",
    "\n",
    "descritiva2('idade_cat', 'inadimplencia', dados)\n",
    "\n",
    "print(dados.head())\n",
    "\n",
    "dados.to_parquet('exercicio.parquet')\n",
    "\n",
    "#####################################################################################\n",
    "# Agora é a sua vez: Ajuste uma árvore de decisão, e explore os recursos que fizemos \n",
    "# ao longo da aula nesta base de dados ;)"
   ]
  }
 ],
 "metadata": {
  "kernelspec": {
   "display_name": "Python 3",
   "language": "python",
   "name": "python3"
  },
  "language_info": {
   "codemirror_mode": {
    "name": "ipython",
    "version": 3
   },
   "file_extension": ".py",
   "mimetype": "text/x-python",
   "name": "python",
   "nbconvert_exporter": "python",
   "pygments_lexer": "ipython3",
   "version": "3.10.12"
  }
 },
 "nbformat": 4,
 "nbformat_minor": 2
}
